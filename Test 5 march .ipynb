{
 "cells": [
  {
   "cell_type": "markdown",
   "id": "cbb45bc8",
   "metadata": {},
   "source": [
    "# Q. 1 Mention the different types of Data Structures in Pandas ?"
   ]
  },
  {
   "cell_type": "raw",
   "id": "d0a51f09",
   "metadata": {},
   "source": [
    "Different Types of Data Structures in Pandas in Python\n",
    "In Python's Pandas library, there are two main data structures used for data manipulation: Series and DataFrame.\n",
    "Series\n",
    "A Series is a one-dimensional labeled array capable of holding any data type. It is created using pd.Series(data, index). Examples include:\n",
    "Creating a Series from a list of characters:\n",
    "Creating a Series from a list of integers.\n",
    "Creating a Series from a dictionary."
   ]
  },
  {
   "cell_type": "code",
   "execution_count": 2,
   "id": "d2376076",
   "metadata": {},
   "outputs": [
    {
     "name": "stdout",
     "output_type": "stream",
     "text": [
      "0    g\n",
      "1    e\n",
      "2    e\n",
      "3    k\n",
      "4    s\n",
      "dtype: object\n"
     ]
    }
   ],
   "source": [
    "import pandas as pd\n",
    "char_list = ['g', 'e', 'e', 'k', 's']\n",
    "series_char = pd.Series(char_list)\n",
    "print(series_char)"
   ]
  },
  {
   "cell_type": "raw",
   "id": "5ab62448",
   "metadata": {},
   "source": [
    "DataFrame\n",
    "A DataFrame is a two-dimensional labeled data structure with columns of potentially different types. It is like a spreadsheet with rows and columns. Examples include:\n",
    "Creating a DataFrame from a list.\n",
    "Creating a DataFrame from a dictionary of arrays/lists.\n",
    "Pandas DataFrames are commonly used for data analysis tasks, offering flexibility in handling tabular data efficiently. They can be created by loading datasets from various sources like SQL databases, CSV files, or Excel files. DataFrames are versatile and allow for easy manipulation of data through operations like selecting columns and rows.\n",
    "In summary, Pandas in Python provides the Series and DataFrame data structures, which are essential for handling and analyzing data efficiently"
   ]
  },
  {
   "cell_type": "markdown",
   "id": "f419ebf4",
   "metadata": {},
   "source": [
    "# Q. 2  What are the significant features of the pandas library ?"
   ]
  },
  {
   "cell_type": "markdown",
   "id": "ddb2f9a9",
   "metadata": {},
   "source": [
    "# Significant Features of the Pandas Library\n",
    "The Pandas library in Python offers several significant features that make it a powerful tool for data manipulation and analysis:"
   ]
  },
  {
   "cell_type": "raw",
   "id": "b1209826",
   "metadata": {},
   "source": [
    "1. Handling of Missing Data: Pandas integrates features to handle missing values in data, ensuring accurate analysis by addressing the issue of missing data points"
   ]
  },
  {
   "cell_type": "code",
   "execution_count": null,
   "id": "f41d141c",
   "metadata": {},
   "outputs": [],
   "source": [
    "df.dropna()  # Drops rows with missing values"
   ]
  },
  {
   "cell_type": "raw",
   "id": "b974c9be",
   "metadata": {},
   "source": [
    "2. Indexing and Alignment: Pandas offers unique methods for indexing and aligning data. Example of setting an index in a DataFrame:"
   ]
  },
  {
   "cell_type": "code",
   "execution_count": 4,
   "id": "21c1d921",
   "metadata": {},
   "outputs": [],
   "source": [
    "# df.set_index('column_name')"
   ]
  },
  {
   "cell_type": "raw",
   "id": "ad58b96e",
   "metadata": {},
   "source": [
    "3. Tools for Input and Output: Pandas provides built-in tools for reading and writing data from various sources like databases, CSV files, or Excel files. Example of reading data from a CSV file:"
   ]
  },
  {
   "cell_type": "code",
   "execution_count": 5,
   "id": "dba11f73",
   "metadata": {},
   "outputs": [],
   "source": [
    "# df = pd.read_csv('data.csv')"
   ]
  },
  {
   "cell_type": "raw",
   "id": "fb9b2217",
   "metadata": {},
   "source": [
    "4. Great Data Handling: Pandas provides efficient ways to manage and explore data through Series and DataFrames. For example, creating a Series from a list of characters:"
   ]
  },
  {
   "cell_type": "code",
   "execution_count": 6,
   "id": "b6efea55",
   "metadata": {},
   "outputs": [],
   "source": [
    "# import pandas as pd\n",
    "# char_list = ['g', 'e', 'e', 'k', 's']\n",
    "# series_char = pd.Series(char_list)"
   ]
  },
  {
   "cell_type": "raw",
   "id": "9f2e9ac6",
   "metadata": {},
   "source": [
    "5. Data Clean-up: Pandas facilitates cleaning up data, ensuring better analysis results. Example of dropping NULL values in a DataFrame:"
   ]
  },
  {
   "cell_type": "code",
   "execution_count": 7,
   "id": "7985733d",
   "metadata": {},
   "outputs": [],
   "source": [
    "# df.dropna()"
   ]
  },
  {
   "cell_type": "markdown",
   "id": "9c42ed58",
   "metadata": {},
   "source": [
    "# Q. 3  How can we create a copy of the series in Pandas ?"
   ]
  },
  {
   "cell_type": "raw",
   "id": "c3c8813d",
   "metadata": {},
   "source": [
    "To create a copy of a Series in Pandas, you can use the copy() method. This method makes a copy of the Series object's indices and data before any manipulation or changes are made to the Series. It returns a new Series object that is a copy of the original one. The syntax for the copy() method is as follows:"
   ]
  },
  {
   "cell_type": "code",
   "execution_count": 8,
   "id": "9e95a219",
   "metadata": {},
   "outputs": [],
   "source": [
    "# new_series = original_series.copy()"
   ]
  },
  {
   "cell_type": "raw",
   "id": "105e450e",
   "metadata": {},
   "source": [
    "By default, the deep parameter is set to True, which means it creates a deep copy of the Series, including both the data and indices. Here is an example illustrating how to create a copy of a Series in Pandas:"
   ]
  },
  {
   "cell_type": "code",
   "execution_count": 9,
   "id": "448e3147",
   "metadata": {},
   "outputs": [
    {
     "name": "stdout",
     "output_type": "stream",
     "text": [
      "Original Series:\n",
      "0    1.0\n",
      "1    2.0\n",
      "2    NaN\n",
      "3    4.0\n",
      "dtype: float64\n",
      "\n",
      "Copied Series:\n",
      "0    1.0\n",
      "1    2.0\n",
      "2    NaN\n",
      "3    4.0\n",
      "dtype: float64\n"
     ]
    }
   ],
   "source": [
    "import pandas as pd\n",
    "import numpy as np\n",
    "\n",
    "# Create a Series with some data\n",
    "series_1 = pd.Series([1, 2, np.nan, 4])\n",
    "\n",
    "# Make a copy of the Series using the copy() method\n",
    "series_copy = series_1.copy()\n",
    "\n",
    "# Print the original and copied Series\n",
    "print(\"Original Series:\")\n",
    "print(series_1)\n",
    "print(\"\\nCopied Series:\")\n",
    "print(series_copy)"
   ]
  },
  {
   "cell_type": "raw",
   "id": "a10ff6ab",
   "metadata": {},
   "source": [
    "In this example, series_1 is the original Series, and series_copy is a copy of series_1. Any changes made to series_copy will not affect the original series_1, demonstrating how the copy() method creates an independent copy of the Series"
   ]
  },
  {
   "cell_type": "markdown",
   "id": "9250ac5f",
   "metadata": {},
   "source": [
    "# Q. 4  Explain Categorical data in Pandas ?"
   ]
  },
  {
   "cell_type": "raw",
   "id": "566b688f",
   "metadata": {},
   "source": [
    "Categorical data in Pandas is a data type that corresponds to categorical variables used in statistics. It takes on a limited set of values that are usually fixed and may have a fixed order but cannot perform numerical operations. Categorical data is useful when dealing with string variables consisting of only a few different values, as it can save memory by converting such variables into categorical variables"
   ]
  },
  {
   "cell_type": "code",
   "execution_count": 10,
   "id": "4bf6447f",
   "metadata": {},
   "outputs": [
    {
     "name": "stdout",
     "output_type": "stream",
     "text": [
      "['a', 'b', 'c', 'a']\n",
      "Categories (3, object): ['a', 'b', 'c']\n"
     ]
    }
   ],
   "source": [
    "# Here's a simple example of creating a categorical variable in Pandas:\n",
    "import pandas as pd\n",
    "\n",
    "# Create a categorical variable\n",
    "categorical_var = pd.Categorical(['a', 'b', 'c', 'a'])\n",
    "\n",
    "print(categorical_var)"
   ]
  },
  {
   "cell_type": "raw",
   "id": "60ca444d",
   "metadata": {},
   "source": [
    "In this example, we create a categorical variable categorical_var with values ['a', 'b', 'c', 'a']. The Categorical function is used to create the categorical variable, and the categories parameter is set to ['a', 'b', 'c'] to specify the unique categories for this categorical. The dtype parameter is set to CategoricalDtype to indicate that this is a categorical variable. The output shows the categorical variable, its categories, and the code attribute, which indicates the unique codes for each category."
   ]
  },
  {
   "cell_type": "markdown",
   "id": "bdbf9f9f",
   "metadata": {},
   "source": [
    "# Q. 5 Explain the Reindexing in pandas along with its parameters ?"
   ]
  },
  {
   "cell_type": "raw",
   "id": "ba537543",
   "metadata": {},
   "source": [
    "Reindexing in Pandas is a process that allows you to change the row and column labels of a DataFrame to match a given set of labels along a specific axis. It can be used to reorder existing data to match new labels and insert missing value markers (NaN) where no data for the label existed. Here are the key parameters used in the reindex() method along with examples:"
   ]
  },
  {
   "cell_type": "raw",
   "id": "d210b934",
   "metadata": {},
   "source": [
    "Parameters:\n",
    "1. labels: Refers to the new labels or index to conform to the specified axis.\n",
    "\n",
    "2. index, columns: Optional parameters for new labels or index, preferably using an Index object to avoid duplicate data.\n",
    "\n",
    "3. axis: Targets the axis (rows or columns) and can be specified by name or number.\n",
    "\n",
    "4. method: Specifies the method for filling holes in the reindexed DataFrame (e.g., 'backfill', 'pad', 'nearest').\n",
    "\n",
    "5. copy: Returns a new object if True, even if the passed indexes are the same.\n",
    "\n",
    "6. level: Used to broadcast across a level and match index values on a MultiIndex level.\n",
    "\n",
    "7. fill_value: Specifies the value to use for missing values, default is NaN.\n",
    "\n",
    "\n",
    "8. limit: Defines the maximum number of consecutive elements to forward or backward fill.\n",
    "\n",
    "9. tolerance: Determines the maximum distance between original and new labels for inexact matches."
   ]
  },
  {
   "cell_type": "code",
   "execution_count": 11,
   "id": "1a4fbb86",
   "metadata": {},
   "outputs": [
    {
     "name": "stdout",
     "output_type": "stream",
     "text": [
      "          a         b         c         d         e\n",
      "B  0.742599  0.641652  0.235155  0.090108  0.623979\n",
      "D  0.842613  0.752819  0.226477  0.378491  0.275833\n",
      "A  0.385685  0.904291  0.180926  0.891494  0.844016\n",
      "C  0.312010  0.593991  0.180455  0.150734  0.333654\n",
      "E  0.325181  0.542875  0.175604  0.686329  0.873098\n"
     ]
    }
   ],
   "source": [
    "# Example 1: Reindexing Rows\n",
    "import pandas as pd\n",
    "import numpy as np\n",
    "\n",
    "# Create a DataFrame\n",
    "df = pd.DataFrame(np.random.rand(5, 5), columns=['a', 'b', 'c', 'd', 'e'], index=['A', 'B', 'C', 'D', 'E'])\n",
    "\n",
    "# Reindex rows\n",
    "print(df.reindex(['B', 'D', 'A', 'C', 'E']))"
   ]
  },
  {
   "cell_type": "code",
   "execution_count": 12,
   "id": "ed7e384d",
   "metadata": {},
   "outputs": [
    {
     "name": "stdout",
     "output_type": "stream",
     "text": [
      "          e         a         b         c         d\n",
      "A  0.672915  0.767680  0.424033  0.389595  0.665491\n",
      "B  0.759117  0.345975  0.601993  0.709445  0.867005\n",
      "C  0.515047  0.433657  0.936543  0.357141  0.867466\n",
      "D  0.122942  0.356450  0.472053  0.637669  0.856860\n",
      "E  0.558065  0.583362  0.428834  0.311275  0.827442\n"
     ]
    }
   ],
   "source": [
    "# Example 2: Reindexing Columns\n",
    "import pandas as pd\n",
    "import numpy as np\n",
    "\n",
    "# Create a DataFrame\n",
    "df = pd.DataFrame(np.random.rand(5, 5), columns=['a', 'b', 'c', 'd', 'e'], index=['A', 'B', 'C', 'D', 'E'])\n",
    "\n",
    "# Reindex columns\n",
    "print(df.reindex(['e', 'a', 'b', 'c', 'd'], axis='columns'))"
   ]
  },
  {
   "cell_type": "raw",
   "id": "7d7d24a1",
   "metadata": {},
   "source": [
    "In these examples, reindexing is demonstrated for both rows and columns, showcasing how new labels can be applied to rearrange data in a DataFrame while handling missing values effectively."
   ]
  },
  {
   "cell_type": "markdown",
   "id": "11d486e3",
   "metadata": {},
   "source": [
    "# Q.6 Explain Multi-Indexing in pandas ?"
   ]
  },
  {
   "cell_type": "raw",
   "id": "34027b33",
   "metadata": {},
   "source": [
    "Multi-indexing, also known as hierarchical indexing, in Pandas allows for the representation and manipulation of higher-dimensional data efficiently. It enables the storage and manipulation of data with an arbitrary number of dimensions in lower-dimensional data structures like Series (1d) and DataFrame (2d). Here is an explanation along with examples:\n",
    "\n",
    "Creating a MultiIndex Object:\n",
    "A MultiIndex can be created from a list of arrays, an array of tuples, a crossed set of iterables, or a DataFrame. The following example demonstrates different ways to initialize MultiIndexes:"
   ]
  },
  {
   "cell_type": "code",
   "execution_count": 13,
   "id": "23ccb453",
   "metadata": {},
   "outputs": [
    {
     "name": "stdout",
     "output_type": "stream",
     "text": [
      "                A         B         C\n",
      "car one -0.631014 -1.134852 -0.741533\n",
      "    two -0.533466 -0.028856  0.748449\n",
      "bag one -0.571572 -0.003928  0.359591\n",
      "    two -0.734380  0.336593  0.787578\n",
      "foo one -0.168516 -0.942351  0.611382\n",
      "fol two  0.414394 -1.590816 -1.017881\n",
      "lux one -2.113970 -1.051401 -0.782908\n",
      "    two -0.351873 -0.470385  0.171414\n"
     ]
    }
   ],
   "source": [
    "import pandas as pd\n",
    "\n",
    "# Create arrays for the MultiIndex\n",
    "arrays = [[\"car\", \"car\", \"bag\", \"bag\", \"foo\", \"fol\", \"lux\", \"lux\"],\n",
    "          [\"one\", \"two\", \"one\", \"two\", \"one\", \"two\", \"one\", \"two\"]]\n",
    "\n",
    "# Create a list of tuples from arrays\n",
    "tuples = list(zip(*arrays))\n",
    "\n",
    "# Create a MultiIndex object\n",
    "multi_index = pd.MultiIndex.from_tuples(tuples)\n",
    "\n",
    "# Create a DataFrame using the MultiIndex\n",
    "df = pd.DataFrame(np.random.randn(8, 3), index=multi_index, columns=['A', 'B', 'C'])\n",
    "\n",
    "print(df)"
   ]
  },
  {
   "cell_type": "raw",
   "id": "6f9fe012",
   "metadata": {},
   "source": [
    "Accessing Data with MultiIndex:\n",
    "You can access specific rows or columns using the hierarchical index levels. Here is an example:\n",
    "\n",
    "# Access all entries under 'Asia'\n",
    "asia = df.loc['Asia']\n",
    "\n",
    "# Access a specific entry like 'Canada'\n",
    "canada = df.loc[('North America', 'Canada')]\n",
    "\n",
    "print('Asia\\n', asia)\n",
    "print('\\nCanada\\n', canada)\n",
    "\n",
    "In this example, we first create a MultiIndex object named multi_index from arrays and then use it to create a DataFrame. We demonstrate how to access specific data entries under 'Asia' and retrieve information about 'Canada' within the hierarchical index structure"
   ]
  },
  {
   "cell_type": "markdown",
   "id": "cd228432",
   "metadata": {},
   "source": [
    "# Q. 7 How can we convert Series to dataframe ?\n",
    "\n",
    "To convert a Series to a DataFrame in Pandas, you can use the to_frame() method. This method converts a Series object into a DataFrame with the same data and index. Here is an example illustrating how to convert a Series to a DataFrame:"
   ]
  },
  {
   "cell_type": "code",
   "execution_count": 20,
   "id": "2fd2c568",
   "metadata": {},
   "outputs": [
    {
     "name": "stdout",
     "output_type": "stream",
     "text": [
      "   Numbers\n",
      "0       10\n",
      "1       20\n",
      "2       30\n",
      "3       40\n"
     ]
    }
   ],
   "source": [
    "import pandas as pd\n",
    "\n",
    "# Create a Series\n",
    "series_data = pd.Series([10, 20, 30, 40], name='Numbers')\n",
    "\n",
    "# Convert the Series to a DataFrame\n",
    "df = series_data.to_frame()\n",
    "\n",
    "print(df)"
   ]
  },
  {
   "cell_type": "raw",
   "id": "3b359940",
   "metadata": {},
   "source": [
    "In this example, we first create a Series named series_data with some numerical data. We then use the to_frame() method to convert this Series into a DataFrame named df. The resulting DataFrame retains the data and index from the original Series, with the column name 'Numbers' assigned to the data. This conversion allows you to work with the data in DataFrame format, enabling additional functionalities available for DataFrames in Pandas."
   ]
  },
  {
   "cell_type": "markdown",
   "id": "98e83747",
   "metadata": {},
   "source": [
    "# Q. 8 How can we convert Dataframe to Numpy Array ?\n",
    "To convert a DataFrame to a NumPy array in Pandas, you can use the values attribute. This attribute returns the values stored in the DataFrame as a NumPy array. Here is an example illustrating how to convert a DataFrame to a NumPy array:"
   ]
  },
  {
   "cell_type": "code",
   "execution_count": 21,
   "id": "10b68588",
   "metadata": {},
   "outputs": [
    {
     "name": "stdout",
     "output_type": "stream",
     "text": [
      "[[1 4]\n",
      " [2 5]\n",
      " [3 6]]\n"
     ]
    }
   ],
   "source": [
    "import pandas as pd\n",
    "import numpy as np\n",
    "\n",
    "# Create a DataFrame\n",
    "df = pd.DataFrame({'A': [1, 2, 3], 'B': [4, 5, 6]})\n",
    "\n",
    "# Convert the DataFrame to a NumPy array\n",
    "numpy_array = df.values\n",
    "\n",
    "print(numpy_array)"
   ]
  },
  {
   "cell_type": "raw",
   "id": "fb095619",
   "metadata": {},
   "source": [
    "In this example, we first create a DataFrame named df with some numerical data. We then use the values attribute to convert this DataFrame into a NumPy array named numpy_array. The resulting array has the same shape and data as the original DataFrame, but it is stored in the NumPy array format. This conversion allows you to work with the data in NumPy array format, which can be useful for certain operations and algorithms that require a specific data type or structure."
   ]
  },
  {
   "cell_type": "markdown",
   "id": "de221a15",
   "metadata": {},
   "source": [
    "# Q. 9  How can we convert Dataframe to an excel file ?\n",
    "To convert a DataFrame to an Excel file in Pandas, you can use the to_excel() method. This method allows you to save the data from a DataFrame to an Excel file. Here is an example illustrating how to convert a DataFrame to an Excel file:"
   ]
  },
  {
   "cell_type": "code",
   "execution_count": 22,
   "id": "f1a7f3b2",
   "metadata": {},
   "outputs": [
    {
     "name": "stdout",
     "output_type": "stream",
     "text": [
      "DataFrame successfully saved to Excel file.\n"
     ]
    }
   ],
   "source": [
    "import pandas as pd\n",
    "\n",
    "# Create a DataFrame\n",
    "data = {'Name': ['Alice', 'Bob', 'Charlie'],\n",
    "        'Age': [25, 30, 35],\n",
    "        'City': ['New York', 'Los Angeles', 'Chicago']}\n",
    "df = pd.DataFrame(data)\n",
    "\n",
    "# Specify the file path for the Excel file\n",
    "file_path = 'data.xlsx'\n",
    "\n",
    "# Convert the DataFrame to an Excel file\n",
    "df.to_excel(file_path, index=False)\n",
    "\n",
    "print(\"DataFrame successfully saved to Excel file.\")"
   ]
  },
  {
   "cell_type": "raw",
   "id": "c2f488f8",
   "metadata": {},
   "source": [
    "In this example:\n",
    "1. We create a DataFrame named df with some sample data.\n",
    "\n",
    "2. We specify the file path where we want to save the Excel file using the file_path variable.\n",
    "\n",
    "3. We use the to_excel() method on the DataFrame df to convert and save it as an Excel file at the specified location.\n",
    "\n",
    "4. The index=False parameter is used to exclude the DataFrame index from being saved in the Excel file.\n",
    "\n",
    "5. Finally, a message is printed confirming that the DataFrame has been successfully saved to an Excel file.\n",
    "After running this code, you will find a file named data.xlsx at the specified location containing the data from the DataFrame in an Excel format."
   ]
  },
  {
   "cell_type": "markdown",
   "id": "832b1f02",
   "metadata": {},
   "source": [
    "# Q. 10 How would you iterate over rows in a dataframe in pandas ?\n",
    "To iterate over rows in a DataFrame in Pandas, you can use the iterrows() method. This method is a generator function that returns an iterator over the index and row labels of the DataFrame. Here is an example illustrating how to iterate over rows in a DataFrame:"
   ]
  },
  {
   "cell_type": "code",
   "execution_count": 23,
   "id": "a4a6361b",
   "metadata": {},
   "outputs": [
    {
     "name": "stdout",
     "output_type": "stream",
     "text": [
      "0 Name       Alice\n",
      "Age           25\n",
      "City    New York\n",
      "Name: 0, dtype: object\n",
      "1 Name            Bob\n",
      "Age              30\n",
      "City    Los Angeles\n",
      "Name: 1, dtype: object\n",
      "2 Name    Charlie\n",
      "Age          35\n",
      "City    Chicago\n",
      "Name: 2, dtype: object\n"
     ]
    }
   ],
   "source": [
    "import pandas as pd\n",
    "\n",
    "# Create a DataFrame\n",
    "data = {'Name': ['Alice', 'Bob', 'Charlie'],\n",
    "        'Age': [25, 30, 35],\n",
    "        'City': ['New York', 'Los Angeles', 'Chicago']}\n",
    "df = pd.DataFrame(data)\n",
    "\n",
    "# Iterate over rows in the DataFrame\n",
    "for index, row in df.iterrows():\n",
    "    print(index, row)"
   ]
  },
  {
   "cell_type": "raw",
   "id": "3ebb9895",
   "metadata": {},
   "source": [
    "In this example:\n",
    "1. We create a DataFrame named df with some sample data.\n",
    "\n",
    "2. We use the iterrows() method on the DataFrame df to iterate over each row.\n",
    "\n",
    "3. For each row, we print the index (row label) and the row itself.\n",
    "By iterating over the rows in this manner, you can perform operations or calculations on each row individually, allowing you to process the data in a more customized way."
   ]
  }
 ],
 "metadata": {
  "kernelspec": {
   "display_name": "Python 3 (ipykernel)",
   "language": "python",
   "name": "python3"
  },
  "language_info": {
   "codemirror_mode": {
    "name": "ipython",
    "version": 3
   },
   "file_extension": ".py",
   "mimetype": "text/x-python",
   "name": "python",
   "nbconvert_exporter": "python",
   "pygments_lexer": "ipython3",
   "version": "3.11.5"
  }
 },
 "nbformat": 4,
 "nbformat_minor": 5
}
