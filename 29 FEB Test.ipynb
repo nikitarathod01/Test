{
 "cells": [
  {
   "cell_type": "markdown",
   "id": "9353502c",
   "metadata": {},
   "source": [
    "# 1.  Write a program to check given number is even or odd ? "
   ]
  },
  {
   "cell_type": "code",
   "execution_count": 9,
   "id": "5d4eaf33",
   "metadata": {},
   "outputs": [
    {
     "name": "stdout",
     "output_type": "stream",
     "text": [
      "Enter the num:2\n",
      "Even\n",
      "The number entered is   2\n"
     ]
    }
   ],
   "source": [
    "num = int(input(\"Enter the num:\"))\n",
    "if num % 2 == 0:\n",
    "    print(\"Even\")\n",
    "else:\n",
    "    print(\"Odd\")\n",
    "print(\"The number entered is  \", num)\n"
   ]
  },
  {
   "cell_type": "markdown",
   "id": "da95d600",
   "metadata": {},
   "source": [
    "# 2.   Write a program to check given character is a vowel or consonant ? "
   ]
  },
  {
   "cell_type": "code",
   "execution_count": 13,
   "id": "21d74652",
   "metadata": {},
   "outputs": [
    {
     "name": "stdout",
     "output_type": "stream",
     "text": [
      "Enter the letter:a\n",
      "Vowel\n"
     ]
    }
   ],
   "source": [
    "x = input(\"Enter the letter:\")\n",
    "\n",
    "def VowelorConsonant(x):\n",
    "    if x in ['a', 'e', 'i', 'o', 'u']:\n",
    "        print(\"Vowel\")\n",
    "    else:\n",
    "        print(\"Consonant\")\n",
    "\n",
    "VowelorConsonant(x)\n"
   ]
  },
  {
   "cell_type": "markdown",
   "id": "f1d54ca8",
   "metadata": {},
   "source": [
    "# 3. Write a program to count vowels and consonants in the string ?"
   ]
  },
  {
   "cell_type": "code",
   "execution_count": 16,
   "id": "f455e78e",
   "metadata": {},
   "outputs": [
    {
     "name": "stdout",
     "output_type": "stream",
     "text": [
      "Enter the letter: a\n",
      "Vowels: 1\n",
      "Consonants: 0\n"
     ]
    }
   ],
   "source": [
    "# Initialize the string\n",
    "input_string = str(input(\"Enter the letter: \"))\n",
    "\n",
    "# Define vowels and consonants\n",
    "vowels = 'aeiouAEIOU'\n",
    "consonants = 'bcdfghjklmnpqrstvwxyzBCDFGHJKLMNPQRSTVWXYZ'\n",
    "\n",
    "# Initialize counters\n",
    "vowel_count = 0\n",
    "consonant_count = 0\n",
    "\n",
    "# Loop through the string and count vowels and consonants\n",
    "for char in input_string:\n",
    "    if char in vowels:\n",
    "        vowel_count += 1\n",
    "    elif char in consonants:\n",
    "        consonant_count += 1\n",
    "\n",
    "# Print the counts\n",
    "print(f\"Vowels: {vowel_count}\")\n",
    "print(f\"Consonants: {consonant_count}\")\n"
   ]
  },
  {
   "cell_type": "markdown",
   "id": "472f78de",
   "metadata": {},
   "source": [
    "# 4. Write a program to remove spaces from string without inbuilt function ? "
   ]
  },
  {
   "cell_type": "code",
   "execution_count": 17,
   "id": "767ff729",
   "metadata": {},
   "outputs": [
    {
     "name": "stdout",
     "output_type": "stream",
     "text": [
      "Enter a String : Hello this is Nikita.\n",
      "String after removing the spaces : HellothisisNikita.\n"
     ]
    }
   ],
   "source": [
    "# Write a program to remove spaces from string without inbuilt function ? \n",
    "\n",
    "#taking input from the user\n",
    "string = input(\"Enter a String : \")\n",
    "result=''\n",
    "#iterating the string\n",
    "for i in string:\n",
    "    #if the character is not a space\n",
    "    if i!=' ':\n",
    "        result += i\n",
    "print(\"String after removing the spaces :\",result)"
   ]
  },
  {
   "cell_type": "code",
   "execution_count": null,
   "id": "79d1d0f7",
   "metadata": {},
   "outputs": [],
   "source": []
  }
 ],
 "metadata": {
  "kernelspec": {
   "display_name": "Python 3 (ipykernel)",
   "language": "python",
   "name": "python3"
  },
  "language_info": {
   "codemirror_mode": {
    "name": "ipython",
    "version": 3
   },
   "file_extension": ".py",
   "mimetype": "text/x-python",
   "name": "python",
   "nbconvert_exporter": "python",
   "pygments_lexer": "ipython3",
   "version": "3.11.5"
  }
 },
 "nbformat": 4,
 "nbformat_minor": 5
}
