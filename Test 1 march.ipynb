{
 "cells": [
  {
   "cell_type": "markdown",
   "id": "8707b6c5",
   "metadata": {},
   "source": [
    "# Test Questions "
   ]
  },
  {
   "cell_type": "markdown",
   "id": "d203380e",
   "metadata": {},
   "source": [
    "# Q.1  Write a program to converting an Integer into Decimals."
   ]
  },
  {
   "cell_type": "code",
   "execution_count": 2,
   "id": "9e29fcb8",
   "metadata": {},
   "outputs": [
    {
     "name": "stdout",
     "output_type": "stream",
     "text": [
      "Enter the value15\n",
      "Tne converted number is:  0.09999999999999917\n"
     ]
    },
    {
     "data": {
      "text/plain": [
       "float"
      ]
     },
     "execution_count": 2,
     "metadata": {},
     "output_type": "execute_result"
    }
   ],
   "source": [
    "a = int(input(\"Enter the value\"))\n",
    "b = a % 0.1\n",
    "print(\"Tne converted number is: \", b)\n",
    "type(b)"
   ]
  },
  {
   "cell_type": "markdown",
   "id": "3b643d6c",
   "metadata": {},
   "source": [
    "# Q.2  Converting an String of Integers into Decimals ?"
   ]
  },
  {
   "cell_type": "code",
   "execution_count": 6,
   "id": "9327b788",
   "metadata": {},
   "outputs": [
    {
     "name": "stdout",
     "output_type": "stream",
     "text": [
      "Enter the string of Integers: 14\n",
      "14.0\n"
     ]
    }
   ],
   "source": [
    "a = input(\"Enter the string of Integers: \")\n",
    "a = float(a)\n",
    "print(\"a\", a)"
   ]
  },
  {
   "cell_type": "markdown",
   "id": "da22f70a",
   "metadata": {},
   "source": [
    "# Q.3  Reversing a string using an Extended Slicing Technique ? "
   ]
  },
  {
   "cell_type": "code",
   "execution_count": 1,
   "id": "901b063e",
   "metadata": {},
   "outputs": [
    {
     "name": "stdout",
     "output_type": "stream",
     "text": [
      "Enter any string: 145\n",
      "541\n"
     ]
    }
   ],
   "source": [
    "a = input(\"Enter any string: \")\n",
    "reverse = a[::-1]\n",
    "print(reverse)"
   ]
  },
  {
   "cell_type": "markdown",
   "id": "d9e44260",
   "metadata": {},
   "source": [
    "# Q.4  Counting the number of occurances of a character in a string ?"
   ]
  },
  {
   "cell_type": "code",
   "execution_count": 6,
   "id": "6f720d51",
   "metadata": {},
   "outputs": [
    {
     "name": "stdout",
     "output_type": "stream",
     "text": [
      "Enter a string: hey hello hi\n",
      "Enter a character to count: h\n",
      "Number of occurrences of h in the string:  3\n"
     ]
    }
   ],
   "source": [
    "a = input(\"Enter a string: \")\n",
    "c = input(\"Enter a character to count: \")\n",
    "occurrences = a.count(c)\n",
    "print(\"Number of occurrences of\",c, \"in the string: \", occurrences)"
   ]
  },
  {
   "cell_type": "code",
   "execution_count": 7,
   "id": "bfe9564b",
   "metadata": {},
   "outputs": [
    {
     "name": "stdout",
     "output_type": "stream",
     "text": [
      "2\n"
     ]
    }
   ],
   "source": [
    "# Counting occurrences of 'w' in the string\n",
    "my_string = \"hey, it's new world, cheer up!!\"\n",
    "count = my_string.count('w')\n",
    "print(count)  \n"
   ]
  },
  {
   "cell_type": "markdown",
   "id": "f056150a",
   "metadata": {},
   "source": [
    "# Q.5  Find the maximum and minimum number in a list ?"
   ]
  },
  {
   "cell_type": "code",
   "execution_count": 11,
   "id": "2d8095c1",
   "metadata": {},
   "outputs": [
    {
     "name": "stdout",
     "output_type": "stream",
     "text": [
      "Enter the size of list: 8\n",
      "Enter the value: 14\n",
      "Enter the value: 56\n",
      "Enter the value: 48\n",
      "Enter the value: 22\n",
      "Enter the value: 72\n",
      "Enter the value: 13\n",
      "Enter the value: 65\n",
      "Enter the value: 02\n",
      "List: [14, 56, 48, 22, 72, 13, 65, 2]\n",
      "Maximum number:  72\n",
      "Minimum number:  2\n"
     ]
    }
   ],
   "source": [
    "list_num = []\n",
    "size = int(input(\"Enter the size of list: \"))\n",
    "\n",
    "for i in range(size):\n",
    "    value = int(input(\"Enter the value: \"))\n",
    "    list_num.append(value)\n",
    "\n",
    "print(\"List:\", list_num)\n",
    "max_number = max(list_num)\n",
    "min_number = min(list_num)\n",
    "print(\"Maximum number: \", max_number)\n",
    "print(\"Minimum number: \", min_number)\n"
   ]
  },
  {
   "cell_type": "code",
   "execution_count": 13,
   "id": "c0d6c24c",
   "metadata": {},
   "outputs": [
    {
     "name": "stdout",
     "output_type": "stream",
     "text": [
      "Enter the size of list: 4\n",
      "Enter the value: 12\n",
      "Enter the value: 01\n",
      "Enter the value: 75\n",
      "Enter the value: 36\n",
      "The maximum number is 75 and the minimum number is 1.\n"
     ]
    }
   ],
   "source": [
    "def find_max_min(numbers):\n",
    "    if len(numbers) == 0:\n",
    "        return None, None\n",
    "    max_num = max(numbers)\n",
    "    min_num = min(numbers)\n",
    "    return max_num, min_num\n",
    "\n",
    "num_list = []\n",
    "size = int(input(\"Enter the size of list: \"))\n",
    "for i in range(size):\n",
    "    value = int(input(\"Enter the value: \"))\n",
    "    num_list.append(value)\n",
    "\n",
    "max_number, min_number = find_max_min(num_list)\n",
    "print(f\"The maximum number is {max_number} and the minimum number is {min_number}.\")\n"
   ]
  },
  {
   "cell_type": "markdown",
   "id": "a409c722",
   "metadata": {},
   "source": [
    "# Q.6  Find the middle element in a list ? "
   ]
  },
  {
   "cell_type": "code",
   "execution_count": 15,
   "id": "1b39d7f3",
   "metadata": {},
   "outputs": [
    {
     "name": "stdout",
     "output_type": "stream",
     "text": [
      "Enter the size of list: 5\n",
      "Enter the value: 12\n",
      "Enter the value: 78\n",
      "Enter the value: 36\n",
      "Enter the value: 96\n",
      "Enter the value: 12\n",
      "The middle element in list is: 36\n"
     ]
    }
   ],
   "source": [
    "def find_middle_element(lst):\n",
    "    if len(lst) % 2 == 0:\n",
    "        return None\n",
    "    middle_index = len(lst)//2\n",
    "    return lst[middle_index]\n",
    "\n",
    "list = []\n",
    "size = int(input(\"Enter the size of list: \"))\n",
    "for i in range(size):\n",
    "    value = int(input(\"Enter the value: \"))\n",
    "    list.append(value)\n",
    "\n",
    "middle_element = find_middle_element(list)\n",
    "print(f\"The middle element in list is: {middle_element}\")"
   ]
  },
  {
   "cell_type": "markdown",
   "id": "e18a0d1e",
   "metadata": {},
   "source": [
    "# Q.7  Converting a list into a string ?"
   ]
  },
  {
   "cell_type": "code",
   "execution_count": 18,
   "id": "3a2ad2f9",
   "metadata": {},
   "outputs": [
    {
     "name": "stdout",
     "output_type": "stream",
     "text": [
      "Enter the size pf list: 5\n",
      "Enter the value: 12\n",
      "Enter the value: 13\n",
      "Enter the value: 14\n",
      "Enter the value: 15\n",
      "Enter the value: 16\n",
      "The string representation of the list is: 12,13,14,15,16\n"
     ]
    }
   ],
   "source": [
    "def list_to_string(lst):\n",
    "    return ','.join(map(str, lst))\n",
    "\n",
    "\n",
    "list = []\n",
    "size = int(input(\"Enter the size pf list: \"))\n",
    "for i in range(size):\n",
    "    value = int(input(\"Enter the value: \"))\n",
    "    list.append(value)\n",
    "    \n",
    "string_representation = list_to_string(list)\n",
    "print(f\"The string representation of the list is: {string_representation}\")"
   ]
  },
  {
   "cell_type": "markdown",
   "id": "d9b27872",
   "metadata": {},
   "source": [
    "# Q.8  Adding two list elements together ?"
   ]
  },
  {
   "cell_type": "code",
   "execution_count": 19,
   "id": "0556b950",
   "metadata": {},
   "outputs": [
    {
     "name": "stdout",
     "output_type": "stream",
     "text": [
      "The result of adding the elements of the two lists together is: [5, 7, 9]\n"
     ]
    }
   ],
   "source": [
    "list1 = [1, 2, 3]\n",
    "list2 = [4, 5, 6]\n",
    "\n",
    "result = [x + y for x, y in zip(list1, list2)]\n",
    "\n",
    "print(\"The result of adding the elements of the two lists together is:\", result)"
   ]
  },
  {
   "cell_type": "code",
   "execution_count": null,
   "id": "fef02cab",
   "metadata": {},
   "outputs": [],
   "source": []
  }
 ],
 "metadata": {
  "kernelspec": {
   "display_name": "Python 3 (ipykernel)",
   "language": "python",
   "name": "python3"
  },
  "language_info": {
   "codemirror_mode": {
    "name": "ipython",
    "version": 3
   },
   "file_extension": ".py",
   "mimetype": "text/x-python",
   "name": "python",
   "nbconvert_exporter": "python",
   "pygments_lexer": "ipython3",
   "version": "3.11.5"
  }
 },
 "nbformat": 4,
 "nbformat_minor": 5
}
